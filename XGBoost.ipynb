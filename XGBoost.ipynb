{
 "cells": [
  {
   "cell_type": "code",
   "execution_count": 1,
   "metadata": {
    "collapsed": false
   },
   "outputs": [],
   "source": [
    "import pickle\n",
    "import xgboost as xgb\n",
    "\n",
    "import numpy as np\n",
    "from sklearn.cross_validation import KFold, train_test_split\n",
    "from sklearn.metrics import confusion_matrix, mean_squared_error\n",
    "from sklearn.grid_search import GridSearchCV, RandomizedSearchCV\n",
    "from sklearn.datasets import load_iris, load_digits, load_boston\n",
    "\n",
    "from scipy.stats import randint as sp_randint\n",
    "from scipy.stats import randint as sp_randflt\n",
    "from scipy.stats import uniform\n",
    "from sklearn.calibration import CalibratedClassifierCV\n",
    "from sklearn.metrics import log_loss\n",
    "\n",
    "rng = np.random.RandomState(31337)\n",
    "\n",
    "from sklearn.grid_search import ParameterSampler\n",
    "import pandas as pd"
   ]
  },
  {
   "cell_type": "code",
   "execution_count": null,
   "metadata": {
    "collapsed": true
   },
   "outputs": [],
   "source": []
  },
  {
   "cell_type": "code",
   "execution_count": 8,
   "metadata": {
    "collapsed": false
   },
   "outputs": [],
   "source": [
    "ds1 = pd.read_csv('/Users/msegala/Documents/Personal/Kaggle/Kaggle-Springleaf/output/XGBoost/submission_XGBoost_FullData_FullTrain_Eta_0.01_Depth_9_Cols_0.5_SubSample_0.7_MinChildWeight_6_Alpha_4_Version_1.csv')\n",
    "ds2 = pd.read_csv('/Users/msegala/Documents/Personal/Kaggle/Kaggle-Springleaf/output/XGBoost/submission_XGBoost_FullData_FullTrain_Eta_0.01_Depth_9_Cols_0.5_SubSample_0.7_MinChildWeight_6_Alpha_5_Version_1.csv')\n",
    "ds3 = pd.read_csv('/Users/msegala/Documents/Personal/Kaggle/Kaggle-Springleaf/output/XGBoost/submission_XGBoost_FullData_FullTrain_Eta_0.01_Depth_9_Cols_0.5_SubSample_0.7_MinChildWeight_6_Alpha_3_Version_1.csv')\n",
    "ds4 = pd.read_csv('/Users/msegala/Documents/Personal/Kaggle/Kaggle-Springleaf/output/XGBoost/submission_XGBoost_FullData_FullTrain_Eta_0.01_Depth_9_Cols_0.5_SubSample_0.7_MinChildWeight_5_Alpha_3_Version_1.csv')\n",
    "\n",
    "ds5 = pd.read_csv('/Users/msegala/Documents/Personal/Kaggle/Kaggle-Springleaf/output/XGBoost/submission_XGBoost_FullData_FullTrain_Eta_0.01_Depth_10_Cols_0.5_SubSample_0.7_MinChildWeight_7_Alpha_4_Version_1.csv')\n",
    "ds6 = pd.read_csv('/Users/msegala/Documents/Personal/Kaggle/Kaggle-Springleaf/output/XGBoost/submission_XGBoost_FullData_FullTrain_Eta_0.01_Depth_10_Cols_0.5_SubSample_0.7_MinChildWeight_6_Alpha_4_Version_1.csv')\n",
    "\n",
    "ds7 = pd.read_csv('/Users/msegala/Documents/Personal/Kaggle/Kaggle-Springleaf/output/XGBoost/submission_XGBoost_FullData_FullTrain_Eta_0.01_Depth_9_Cols_0.5_SubSample_0.7_MinChildWeight_6_Alpha_4_Gamma_2_Version_1.csv')\n",
    "\n",
    "sgd = pd.read_csv('/Users/msegala/Documents/Personal/Kaggle/Kaggle-Springleaf/output/SGD/kaggle_avg_SGD.csv')\n",
    "ftlr = pd.read_csv('/Users/msegala/Documents/Personal/Kaggle/Kaggle-Springleaf/output/FTLR/kaggle_avg_FTLR.csv')\n",
    "\n",
    "stack1 = pd.read_csv('/Users/msegala/Documents/Personal/Kaggle/Kaggle-Springleaf/output/Stacking/submission_Stacking_1.csv')\n",
    "stack2 = pd.read_csv('/Users/msegala/Documents/Personal/Kaggle/Kaggle-Springleaf/output/Stacking/submission_Stacking_2.csv')"
   ]
  },
  {
   "cell_type": "code",
   "execution_count": 11,
   "metadata": {
    "collapsed": true
   },
   "outputs": [],
   "source": [
    "avg_flat = ( ds1['target'] + ds2['target'] + ds3['target'] + ds4['target'] + ds5['target'] + ds6['target'] + ds7['target'] + stack1['target'] + stack2['target'])/9.0\n",
    "pd.DataFrame({'ID':ds1['ID'],'target':avg_flat}).to_csv('/Users/msegala/Documents/Personal/Kaggle/Kaggle-Springleaf/output/XGBoost/ens_equalWeights_withStack_avg.csv',header=True,index=False)"
   ]
  },
  {
   "cell_type": "code",
   "execution_count": 14,
   "metadata": {
    "collapsed": true
   },
   "outputs": [],
   "source": [
    "avg_flat = ( 2.0*ds1['target']+ds2['target']+ds5['target']+stack1['target']+2.0*stack2['target'])/7.0\n",
    "pd.DataFrame({'ID':ds1['ID'],'target':avg_flat}).to_csv('/Users/msegala/Documents/Personal/Kaggle/Kaggle-Springleaf/output/XGBoost/ens_equalWeights_tops_withStack_avg.csv',header=True,index=False)"
   ]
  },
  {
   "cell_type": "code",
   "execution_count": 4,
   "metadata": {
    "collapsed": true
   },
   "outputs": [],
   "source": [
    "avg_flat = (0.9*(2.0*ds1['target']+ds2['target']+ds3['target']+ds4['target']+ds5['target']+ds6['target']+ds7['target'])/8.0) + (0.1*(sgd['target']+ftlr['target'])/2.0)\n",
    "pd.DataFrame({'ID':ds1['ID'],'target':avg_flat}).to_csv('/Users/msegala/Documents/Personal/Kaggle/Kaggle-Springleaf/output/XGBoost/ens_Weighted_avg.csv',header=True,index=False)"
   ]
  },
  {
   "cell_type": "code",
   "execution_count": null,
   "metadata": {
    "collapsed": true
   },
   "outputs": [],
   "source": []
  },
  {
   "cell_type": "code",
   "execution_count": 15,
   "metadata": {
    "collapsed": true
   },
   "outputs": [],
   "source": [
    "avg_flat = ( 3.0*ds1['target'] + ds2['target'] + ds3['target'] + ds4['target'] + ds5['target'] + ds6['target'] + ds7['target'] + stack1['target'] + 3.0*stack2['target'])/13.0\n",
    "pd.DataFrame({'ID':ds1['ID'],'target':avg_flat}).to_csv('/Users/msegala/Documents/Personal/Kaggle/Kaggle-Springleaf/output/XGBoost/ens_equalWeights_withStack_avg.csv',header=True,index=False)"
   ]
  },
  {
   "cell_type": "code",
   "execution_count": null,
   "metadata": {
    "collapsed": true
   },
   "outputs": [],
   "source": []
  },
  {
   "cell_type": "code",
   "execution_count": null,
   "metadata": {
    "collapsed": true
   },
   "outputs": [],
   "source": []
  },
  {
   "cell_type": "code",
   "execution_count": null,
   "metadata": {
    "collapsed": true
   },
   "outputs": [],
   "source": []
  },
  {
   "cell_type": "code",
   "execution_count": null,
   "metadata": {
    "collapsed": true
   },
   "outputs": [],
   "source": []
  },
  {
   "cell_type": "code",
   "execution_count": null,
   "metadata": {
    "collapsed": true
   },
   "outputs": [],
   "source": []
  },
  {
   "cell_type": "code",
   "execution_count": null,
   "metadata": {
    "collapsed": true
   },
   "outputs": [],
   "source": []
  },
  {
   "cell_type": "code",
   "execution_count": null,
   "metadata": {
    "collapsed": true
   },
   "outputs": [],
   "source": []
  },
  {
   "cell_type": "code",
   "execution_count": null,
   "metadata": {
    "collapsed": true
   },
   "outputs": [],
   "source": []
  },
  {
   "cell_type": "code",
   "execution_count": null,
   "metadata": {
    "collapsed": true
   },
   "outputs": [],
   "source": []
  },
  {
   "cell_type": "code",
   "execution_count": 30,
   "metadata": {
    "collapsed": false
   },
   "outputs": [
    {
     "name": "stdout",
     "output_type": "stream",
     "text": [
      "Parameter optimization\n"
     ]
    }
   ],
   "source": [
    "print(\"Parameter optimization\")\n",
    "boston = load_boston()\n",
    "y = boston['target']\n",
    "X = boston['data']\n",
    "\n",
    "y[y<25] = 0\n",
    "y[y>=25] = 1\n",
    "\n",
    "xgb_model = xgb.XGBClassifier()\n",
    "\n",
    "param = {'max_depth':2, 'eta':1, 'silent':1, 'objective':'binary:logistic'}\n",
    "num_round = 2\n",
    "\n",
    "Xtrain = X[0:400]\n",
    "Xtest  = X[400:]\n",
    "\n",
    "ytrain = y[0:400]\n",
    "ytest  = y[400:]\n"
   ]
  },
  {
   "cell_type": "code",
   "execution_count": 31,
   "metadata": {
    "collapsed": false
   },
   "outputs": [
    {
     "name": "stdout",
     "output_type": "stream",
     "text": [
      "1.96\n"
     ]
    }
   ],
   "source": [
    "calibrated_clf = CalibratedClassifierCV(xgb_model, method='isotonic', cv=5)\n",
    "\n",
    "calibrated_clf.fit(Xtrain, ytrain)\n",
    "ypreds = calibrated_clf.predict(Xtest)\n",
    "print \"%.2f\" % log_loss(ytest, ypreds, eps=1e-15, normalize=True)"
   ]
  },
  {
   "cell_type": "code",
   "execution_count": 2,
   "metadata": {
    "collapsed": false
   },
   "outputs": [
    {
     "name": "stdout",
     "output_type": "stream",
     "text": [
      "Parameter optimization\n",
      "1 :==> 6.0 0.5 0.6\n",
      "2 :==> 5.0 1.0 1.1\n",
      "3 :==> 6.0 0.2 1.0\n",
      "4 :==> 5.0 0.4 1.4\n",
      "5 :==> 2.0 0.7 1.1\n"
     ]
    },
    {
     "ename": "NameError",
     "evalue": "name 'asda' is not defined",
     "output_type": "error",
     "traceback": [
      "\u001b[0;31m---------------------------------------------------------------------------\u001b[0m",
      "\u001b[0;31mNameError\u001b[0m                                 Traceback (most recent call last)",
      "\u001b[0;32m<ipython-input-2-bbd231f21c32>\u001b[0m in \u001b[0;36m<module>\u001b[0;34m()\u001b[0m\n\u001b[1;32m     18\u001b[0m     \u001b[0mcnt\u001b[0m \u001b[0;34m=\u001b[0m \u001b[0mcnt\u001b[0m \u001b[0;34m+\u001b[0m \u001b[0;36m1\u001b[0m\u001b[0;34m\u001b[0m\u001b[0m\n\u001b[1;32m     19\u001b[0m \u001b[0;34m\u001b[0m\u001b[0m\n\u001b[0;32m---> 20\u001b[0;31m \u001b[0masda\u001b[0m\u001b[0;34m\u001b[0m\u001b[0m\n\u001b[0m\u001b[1;32m     21\u001b[0m \u001b[0;34m\u001b[0m\u001b[0m\n\u001b[1;32m     22\u001b[0m \u001b[0;31m#clf = GridSearchCV(xgb_model,\u001b[0m\u001b[0;34m\u001b[0m\u001b[0;34m\u001b[0m\u001b[0m\n",
      "\u001b[0;31mNameError\u001b[0m: name 'asda' is not defined"
     ]
    }
   ],
   "source": [
    "print(\"Parameter optimization\")\n",
    "boston = load_boston()\n",
    "y = boston['target']\n",
    "X = boston['data']\n",
    "xgb_model = xgb.XGBRegressor()\n",
    "\n",
    "param_space = {'max_depth': sp_randint(1,10), \n",
    "               'learning_rate' : uniform(0.1,1), \n",
    "               'subsample': uniform(0.5, 1) }\n",
    " \n",
    "param_list   = list(ParameterSampler(param_space, n_iter=5))\n",
    "param_list = [dict((k, round(v, 1)) for (k, v) in d.items()) for d in param_list]\n",
    "\n",
    "cnt = 1\n",
    "for par in param_list:\n",
    "    max_depth, learning_rate, subsample = par['max_depth'],par['learning_rate'],par['subsample']\n",
    "    print cnt,\":==>\",max_depth, learning_rate, subsample\n",
    "    cnt = cnt + 1\n",
    "\n",
    "\n",
    "#clf = GridSearchCV(xgb_model,\n",
    "#                   param_space, verbose=1)\n",
    "\n",
    "n_iter_search = 20\n",
    "clf = RandomizedSearchCV(xgb_model, param_distributions=param_space, n_iter=n_iter_search, verbose=2)\n",
    "\n",
    "\n",
    "clf.fit(X,y)\n",
    "print(clf.best_score_)\n",
    "print(clf.best_params_)"
   ]
  },
  {
   "cell_type": "code",
   "execution_count": null,
   "metadata": {
    "collapsed": true
   },
   "outputs": [],
   "source": []
  },
  {
   "cell_type": "code",
   "execution_count": null,
   "metadata": {
    "collapsed": true
   },
   "outputs": [],
   "source": []
  },
  {
   "cell_type": "code",
   "execution_count": null,
   "metadata": {
    "collapsed": true
   },
   "outputs": [],
   "source": []
  },
  {
   "cell_type": "code",
   "execution_count": 27,
   "metadata": {
    "collapsed": false
   },
   "outputs": [],
   "source": [
    "from sklearn.grid_search import ParameterSampler\n",
    "from scipy.stats.distributions import expon\n",
    "import numpy as np\n",
    "from scipy.stats import randint as sp_randint\n",
    "from scipy.stats import uniform,lognorm\n",
    "\n",
    "np.random.seed(0)\n",
    "#param_grid = {'a': [1, 2], \n",
    "              #'b': sp_randint(1, 11), \n",
    "              #'c': expon(),\n",
    "              #'d': uniform(0,1),\n",
    "              #'e': uniform(0,1000)}\n",
    "\n",
    "#param_grid = {'M'         : [1000,5000,1000], \n",
    "#              'myest'     : [1,1.5,2] ,\n",
    "#              'stdyest'   : [1.5, 2, 2.5, 3], \n",
    "#              'mone'      : [1,1.5,2],\n",
    "#              'stdone'    : [1.5, 2, 2.5, 3], \n",
    "#              'mtwo'      : [1,1.5,2], \n",
    "#              'stdtwo'    : [1.5, 2, 2.5, 3], \n",
    "#              'mpast24'   : [1,1.5,2], \n",
    "#              'stdpast24' : [1.5, 2, 2.5, 3],\n",
    "#              'fthresh'   : [1.1, 1.25, 1.5, 2, 2.5, 3, 3.5, 4],\n",
    "#              'pthresh'   : [1.1, 1.25, 1.5, 2, 2.5, 3, 3.5, 4, 4.5, 5], \n",
    "#              'cthresh'   : [2, 3, 4, 5, 6, 7, 8]\n",
    "#             }\n",
    "\n",
    "\n",
    "param_grid = {'M'         : sp_randint(1000,10000), \n",
    "              'myest'     : uniform(1, 2),\n",
    "              'stdyest'   : uniform(1.5, 3), \n",
    "              'mone'      : uniform(1, 2),\n",
    "              'stdone'    : uniform(1.5, 3), \n",
    "              'mtwo'      : uniform(1, 2), \n",
    "              'stdtwo'    : uniform(1.5, 3), \n",
    "              'mpast24'   : uniform(1, 2), \n",
    "              'stdpast24' : uniform(1.5, 3),\n",
    "              'fthresh'   : uniform(1.1, 4),\n",
    "              'pthresh'   : uniform(1.1, 5), \n",
    "              'cthresh'   : sp_randint(2,8)\n",
    "             }\n",
    "\n",
    "\n",
    "param_list   = list(ParameterSampler(param_grid, n_iter=50))\n",
    "rounded_list = [dict((k, round(v, 1)) for (k, v) in d.items()) for d in param_list]"
   ]
  },
  {
   "cell_type": "code",
   "execution_count": 26,
   "metadata": {
    "collapsed": false
   },
   "outputs": [
    {
     "data": {
      "text/plain": [
       "array([8])"
      ]
     },
     "execution_count": 26,
     "metadata": {},
     "output_type": "execute_result"
    }
   ],
   "source": [
    "np.random.randint(0,11,1)"
   ]
  },
  {
   "cell_type": "code",
   "execution_count": 19,
   "metadata": {
    "collapsed": false,
    "scrolled": true
   },
   "outputs": [
    {
     "data": {
      "text/plain": [
       "[{'M': 3732.0,\n",
       "  'cthresh': 7.0,\n",
       "  'fthresh': 4.5,\n",
       "  'mone': 2.7,\n",
       "  'mpast24': 2.7,\n",
       "  'mtwo': 2.2,\n",
       "  'myest': 1.8,\n",
       "  'pthresh': 2.6,\n",
       "  'stdone': 1.7,\n",
       "  'stdpast24': 2.3,\n",
       "  'stdtwo': 2.9,\n",
       "  'stdyest': 3.9},\n",
       " {'M': 3222.0,\n",
       "  'cthresh': 2.0,\n",
       "  'fthresh': 2.7,\n",
       "  'mone': 2.7,\n",
       "  'mpast24': 1.7,\n",
       "  'mtwo': 2.3,\n",
       "  'myest': 1.7,\n",
       "  'pthresh': 5.9,\n",
       "  'stdone': 1.9,\n",
       "  'stdpast24': 4.1,\n",
       "  'stdtwo': 2.9,\n",
       "  'stdyest': 3.9},\n",
       " {'M': 1797.0,\n",
       "  'cthresh': 5.0,\n",
       "  'fthresh': 3.8,\n",
       "  'mone': 2.4,\n",
       "  'mpast24': 2.2,\n",
       "  'mtwo': 2.1,\n",
       "  'myest': 2.5,\n",
       "  'pthresh': 1.6,\n",
       "  'stdone': 2.9,\n",
       "  'stdpast24': 2.1,\n",
       "  'stdtwo': 3.7,\n",
       "  'stdyest': 2.1},\n",
       " {'M': 8221.0,\n",
       "  'cthresh': 7.0,\n",
       "  'fthresh': 3.5,\n",
       "  'mone': 2.2,\n",
       "  'mpast24': 2.9,\n",
       "  'mtwo': 2.4,\n",
       "  'myest': 1.7,\n",
       "  'pthresh': 3.3,\n",
       "  'stdone': 3.6,\n",
       "  'stdpast24': 1.7,\n",
       "  'stdtwo': 3.5,\n",
       "  'stdyest': 3.5},\n",
       " {'M': 9622.0,\n",
       "  'cthresh': 4.0,\n",
       "  'fthresh': 1.6,\n",
       "  'mone': 1.6,\n",
       "  'mpast24': 1.7,\n",
       "  'mtwo': 2.1,\n",
       "  'myest': 1.9,\n",
       "  'pthresh': 6.0,\n",
       "  'stdone': 1.8,\n",
       "  'stdpast24': 2.1,\n",
       "  'stdtwo': 2.0,\n",
       "  'stdyest': 3.5}]"
      ]
     },
     "execution_count": 19,
     "metadata": {},
     "output_type": "execute_result"
    }
   ],
   "source": [
    "rounded_list"
   ]
  },
  {
   "cell_type": "code",
   "execution_count": 28,
   "metadata": {
    "collapsed": false
   },
   "outputs": [
    {
     "name": "stdout",
     "output_type": "stream",
     "text": [
      "1 :==> 3732.0 7.0 4.5 2.7 2.7 2.2 1.8 2.6 1.7 2.3 2.9 3.9\n",
      "2 :==> 3222.0 2.0 2.7 2.7 1.7 2.3 1.7 5.9 1.9 4.1 2.9 3.9\n",
      "3 :==> 1797.0 5.0 3.8 2.4 2.2 2.1 2.5 1.6 2.9 2.1 3.7 2.1\n",
      "4 :==> 8221.0 7.0 3.5 2.2 2.9 2.4 1.7 3.3 3.6 1.7 3.5 3.5\n",
      "5 :==> 9622.0 4.0 1.6 1.6 1.7 2.1 1.9 6.0 1.8 2.1 2.0 3.5\n",
      "6 :==> 4918.0 6.0 2.1 1.3 1.2 2.3 1.3 2.1 2.6 4.0 1.8 4.0\n",
      "7 :==> 3435.0 4.0 3.1 1.1 1.9 1.0 1.9 6.0 2.6 2.9 3.6 4.1\n",
      "8 :==> 7738.0 5.0 4.6 2.0 2.8 2.8 1.2 2.5 1.5 4.0 3.4 4.0\n",
      "9 :==> 7950.0 5.0 2.7 2.1 1.3 1.7 1.3 3.9 3.6 2.4 2.8 3.8\n",
      "10 :==> 4912.0 4.0 3.4 1.4 2.9 1.9 2.7 4.6 2.4 3.9 2.7 4.1\n",
      "11 :==> 4224.0 7.0 4.6 2.4 2.5 2.0 2.9 4.3 2.8 3.3 1.6 2.4\n",
      "12 :==> 9717.0 2.0 2.6 2.5 2.8 1.2 1.2 2.9 3.2 1.6 4.4 2.5\n",
      "13 :==> 6103.0 5.0 2.6 1.9 2.8 2.6 2.4 1.6 4.3 3.6 4.5 1.9\n",
      "14 :==> 1623.0 2.0 1.7 2.2 1.2 2.7 2.6 3.9 2.7 1.7 3.6 2.9\n",
      "15 :==> 9922.0 4.0 4.6 3.0 2.7 1.0 1.7 4.7 2.0 3.1 1.7 2.1\n",
      "16 :==> 7180.0 2.0 4.3 1.4 1.7 2.9 2.4 1.3 2.0 3.4 3.2 2.2\n",
      "17 :==> 5419.0 6.0 3.2 2.2 2.5 1.6 1.8 2.1 2.1 4.3 3.7 3.0\n",
      "18 :==> 7235.0 7.0 2.1 1.1 1.9 1.6 2.4 3.0 2.0 1.6 1.7 3.5\n",
      "19 :==> 1329.0 6.0 4.7 3.0 1.4 2.3 1.5 1.2 3.8 2.5 2.7 3.3\n",
      "20 :==> 7011.0 2.0 4.6 1.5 2.6 1.4 2.9 4.5 2.1 4.3 3.7 2.3\n",
      "21 :==> 8444.0 4.0 3.2 1.1 1.4 1.8 1.7 3.4 2.3 3.3 4.1 1.9\n",
      "22 :==> 1586.0 6.0 1.8 2.4 1.9 2.7 1.4 1.9 1.9 3.7 1.6 3.7\n",
      "23 :==> 9641.0 4.0 1.4 2.1 2.2 2.9 1.6 2.3 1.8 1.5 4.3 3.5\n",
      "24 :==> 3040.0 2.0 3.9 1.4 2.0 2.2 2.6 4.1 2.2 2.9 4.1 3.0\n",
      "25 :==> 2028.0 6.0 3.0 2.4 2.0 2.7 1.4 5.0 4.4 4.1 3.8 4.5\n",
      "26 :==> 3665.0 3.0 3.7 1.7 1.3 2.6 1.4 3.7 2.2 1.8 4.1 4.4\n",
      "27 :==> 1650.0 7.0 4.7 2.5 1.7 1.2 1.8 2.3 1.9 1.7 3.7 1.5\n",
      "28 :==> 2963.0 5.0 1.7 1.2 1.2 2.3 1.5 3.2 3.2 4.1 3.7 2.3\n",
      "29 :==> 7980.0 4.0 1.3 1.6 1.5 1.9 2.4 4.6 2.4 2.6 2.0 3.9\n",
      "30 :==> 7246.0 6.0 3.9 2.6 2.6 1.5 1.7 4.0 2.3 2.6 2.1 2.9\n",
      "31 :==> 3547.0 4.0 3.0 2.8 2.0 1.8 1.3 3.5 3.9 3.2 2.0 1.9\n",
      "32 :==> 3467.0 4.0 1.6 1.8 2.9 1.4 2.8 3.8 2.9 4.1 2.9 3.7\n",
      "33 :==> 2562.0 6.0 3.9 2.4 1.7 2.5 2.3 2.3 2.0 3.9 4.4 2.9\n",
      "34 :==> 6534.0 3.0 2.9 2.9 2.2 2.6 2.8 5.2 2.0 3.4 2.7 1.7\n",
      "35 :==> 9366.0 7.0 2.1 2.7 1.1 2.9 1.7 2.9 1.5 2.1 2.7 4.3\n",
      "36 :==> 8458.0 5.0 1.5 1.2 1.1 1.2 1.5 5.3 3.1 3.0 3.4 3.1\n",
      "37 :==> 1100.0 7.0 4.2 1.8 2.0 3.0 1.5 3.0 1.6 2.4 4.0 3.9\n",
      "38 :==> 9063.0 3.0 2.6 1.6 2.6 1.1 2.4 3.0 3.4 4.3 4.1 3.0\n",
      "39 :==> 4547.0 3.0 4.4 2.5 1.9 2.9 1.7 3.1 3.7 2.8 4.3 2.3\n",
      "40 :==> 1673.0 4.0 3.9 2.8 1.2 1.5 1.5 3.5 4.2 2.6 2.7 4.3\n",
      "41 :==> 6719.0 6.0 3.6 1.3 1.7 1.6 2.4 5.1 3.0 2.4 4.2 2.6\n",
      "42 :==> 7253.0 4.0 4.9 2.3 2.7 2.9 2.5 4.6 4.4 4.5 2.9 1.7\n",
      "43 :==> 4252.0 2.0 1.7 1.8 1.3 2.2 1.8 5.6 4.4 3.1 2.3 3.3\n",
      "44 :==> 1099.0 3.0 2.2 1.9 1.8 1.5 2.0 2.7 2.6 3.1 3.8 2.5\n",
      "45 :==> 1000.0 4.0 1.8 2.8 1.7 2.8 2.0 3.7 2.7 3.1 4.3 4.2\n",
      "46 :==> 8820.0 3.0 3.3 1.5 1.3 2.7 2.3 2.6 2.9 1.6 3.2 2.6\n",
      "47 :==> 5765.0 3.0 1.7 1.9 2.8 1.0 2.9 4.6 1.8 2.4 3.1 3.7\n",
      "48 :==> 5332.0 3.0 2.0 1.9 2.9 2.7 2.8 4.4 2.8 3.6 3.4 1.6\n",
      "49 :==> 7490.0 5.0 1.5 1.5 1.8 2.2 2.8 4.2 1.9 4.4 4.1 3.0\n",
      "50 :==> 5669.0 5.0 3.8 1.6 1.1 1.2 1.2 2.7 2.2 3.2 4.2 3.2\n"
     ]
    }
   ],
   "source": [
    "cnt = 1\n",
    "for rl in rounded_list:\n",
    "    M, cthresh, fthresh, mone, mpast24, mtwo, myest, pthresh, stdone, stdpast24, stdtwo, stdyest \\\n",
    "        = rl['M'],rl['cthresh'],rl['fthresh'],rl['mone'],rl['mpast24'], rl['mtwo'], rl['myest'], rl['pthresh'], rl['stdone'], rl['stdpast24'], rl['stdtwo'], rl['stdyest']\n",
    "    print cnt,\":==>\",M, cthresh, fthresh, mone, mpast24, mtwo, myest, pthresh, stdone, stdpast24, stdtwo, stdyest\n",
    "    cnt = cnt + 1"
   ]
  },
  {
   "cell_type": "code",
   "execution_count": 67,
   "metadata": {
    "collapsed": false
   },
   "outputs": [
    {
     "data": {
      "text/plain": [
       "[{'a': 1.0, 'b': 0.9, 'c': 1.0, 'd': 0.6, 'e': 544.88},\n",
       " {'a': 2.0, 'b': 0.98, 'c': 3.0, 'd': 0.44, 'e': 891.77},\n",
       " {'a': 1.0, 'b': 0.32, 'c': 2.0, 'd': 0.79, 'e': 528.89},\n",
       " {'a': 1.0, 'b': 0.5, 'c': 10.0, 'd': 0.07, 'e': 87.13}]"
      ]
     },
     "execution_count": 67,
     "metadata": {},
     "output_type": "execute_result"
    }
   ],
   "source": [
    "rounded_list"
   ]
  },
  {
   "cell_type": "code",
   "execution_count": 64,
   "metadata": {
    "collapsed": false
   },
   "outputs": [
    {
     "name": "stdout",
     "output_type": "stream",
     "text": [
      "1 0.898560392994 1\n",
      "2 0.48512816221 8\n",
      "1 0.318356140928 2\n",
      "2 1.80836923199 9\n"
     ]
    }
   ],
   "source": [
    "for aaa in param_list:\n",
    "    a,b,c = aaa['a'],aaa['b'],aaa['c']\n",
    "    print a,b,c"
   ]
  },
  {
   "cell_type": "code",
   "execution_count": 39,
   "metadata": {
    "collapsed": false
   },
   "outputs": [
    {
     "name": "stdout",
     "output_type": "stream",
     "text": [
      "FIrst function: 1 loops, best of 3: 0 ns per loop\n",
      " 2\n",
      "asd 11111\n"
     ]
    },
    {
     "ename": "NameError",
     "evalue": "global name 'aa' is not defined",
     "output_type": "error",
     "traceback": [
      "\u001b[0;31m---------------------------------------------------------------------------\u001b[0m",
      "\u001b[0;31mNameError\u001b[0m                                 Traceback (most recent call last)",
      "\u001b[0;32m<ipython-input-39-a62b318a7bdd>\u001b[0m in \u001b[0;36m<module>\u001b[0;34m()\u001b[0m\n\u001b[1;32m     15\u001b[0m     \u001b[0mget_ipython\u001b[0m\u001b[0;34m(\u001b[0m\u001b[0;34m)\u001b[0m\u001b[0;34m.\u001b[0m\u001b[0mmagic\u001b[0m\u001b[0;34m(\u001b[0m\u001b[0;34mu'timeit -n 1 1+1'\u001b[0m\u001b[0;34m)\u001b[0m\u001b[0;34m\u001b[0m\u001b[0m\n\u001b[1;32m     16\u001b[0m \u001b[0;34m\u001b[0m\u001b[0m\n\u001b[0;32m---> 17\u001b[0;31m \u001b[0ma\u001b[0m\u001b[0;34m(\u001b[0m\u001b[0;34m)\u001b[0m\u001b[0;34m\u001b[0m\u001b[0m\n\u001b[0m",
      "\u001b[0;32m<ipython-input-39-a62b318a7bdd>\u001b[0m in \u001b[0;36ma\u001b[0;34m()\u001b[0m\n\u001b[1;32m     10\u001b[0m \u001b[0;34m\u001b[0m\u001b[0m\n\u001b[1;32m     11\u001b[0m     \u001b[0;32mprint\u001b[0m \u001b[0;34m\"asd 11111\"\u001b[0m\u001b[0;34m\u001b[0m\u001b[0m\n\u001b[0;32m---> 12\u001b[0;31m     \u001b[0mget_ipython\u001b[0m\u001b[0;34m(\u001b[0m\u001b[0;34m)\u001b[0m\u001b[0;34m.\u001b[0m\u001b[0mmagic\u001b[0m\u001b[0;34m(\u001b[0m\u001b[0;34mu'timeit -n 1 aa+2'\u001b[0m\u001b[0;34m)\u001b[0m\u001b[0;34m\u001b[0m\u001b[0m\n\u001b[0m\u001b[1;32m     13\u001b[0m \u001b[0;34m\u001b[0m\u001b[0m\n\u001b[1;32m     14\u001b[0m     \u001b[0;32mprint\u001b[0m \u001b[0;34m\"asd 2222222\"\u001b[0m\u001b[0;34m\u001b[0m\u001b[0m\n",
      "\u001b[0;32m/Users/msegala/anaconda/lib/python2.7/site-packages/IPython/core/interactiveshell.pyc\u001b[0m in \u001b[0;36mmagic\u001b[0;34m(self, arg_s)\u001b[0m\n\u001b[1;32m   2305\u001b[0m         \u001b[0mmagic_name\u001b[0m\u001b[0;34m,\u001b[0m \u001b[0m_\u001b[0m\u001b[0;34m,\u001b[0m \u001b[0mmagic_arg_s\u001b[0m \u001b[0;34m=\u001b[0m \u001b[0marg_s\u001b[0m\u001b[0;34m.\u001b[0m\u001b[0mpartition\u001b[0m\u001b[0;34m(\u001b[0m\u001b[0;34m' '\u001b[0m\u001b[0;34m)\u001b[0m\u001b[0;34m\u001b[0m\u001b[0m\n\u001b[1;32m   2306\u001b[0m         \u001b[0mmagic_name\u001b[0m \u001b[0;34m=\u001b[0m \u001b[0mmagic_name\u001b[0m\u001b[0;34m.\u001b[0m\u001b[0mlstrip\u001b[0m\u001b[0;34m(\u001b[0m\u001b[0mprefilter\u001b[0m\u001b[0;34m.\u001b[0m\u001b[0mESC_MAGIC\u001b[0m\u001b[0;34m)\u001b[0m\u001b[0;34m\u001b[0m\u001b[0m\n\u001b[0;32m-> 2307\u001b[0;31m         \u001b[0;32mreturn\u001b[0m \u001b[0mself\u001b[0m\u001b[0;34m.\u001b[0m\u001b[0mrun_line_magic\u001b[0m\u001b[0;34m(\u001b[0m\u001b[0mmagic_name\u001b[0m\u001b[0;34m,\u001b[0m \u001b[0mmagic_arg_s\u001b[0m\u001b[0;34m)\u001b[0m\u001b[0;34m\u001b[0m\u001b[0m\n\u001b[0m\u001b[1;32m   2308\u001b[0m \u001b[0;34m\u001b[0m\u001b[0m\n\u001b[1;32m   2309\u001b[0m     \u001b[0;31m#-------------------------------------------------------------------------\u001b[0m\u001b[0;34m\u001b[0m\u001b[0;34m\u001b[0m\u001b[0m\n",
      "\u001b[0;32m/Users/msegala/anaconda/lib/python2.7/site-packages/IPython/core/interactiveshell.pyc\u001b[0m in \u001b[0;36mrun_line_magic\u001b[0;34m(self, magic_name, line)\u001b[0m\n\u001b[1;32m   2226\u001b[0m                 \u001b[0mkwargs\u001b[0m\u001b[0;34m[\u001b[0m\u001b[0;34m'local_ns'\u001b[0m\u001b[0;34m]\u001b[0m \u001b[0;34m=\u001b[0m \u001b[0msys\u001b[0m\u001b[0;34m.\u001b[0m\u001b[0m_getframe\u001b[0m\u001b[0;34m(\u001b[0m\u001b[0mstack_depth\u001b[0m\u001b[0;34m)\u001b[0m\u001b[0;34m.\u001b[0m\u001b[0mf_locals\u001b[0m\u001b[0;34m\u001b[0m\u001b[0m\n\u001b[1;32m   2227\u001b[0m             \u001b[0;32mwith\u001b[0m \u001b[0mself\u001b[0m\u001b[0;34m.\u001b[0m\u001b[0mbuiltin_trap\u001b[0m\u001b[0;34m:\u001b[0m\u001b[0;34m\u001b[0m\u001b[0m\n\u001b[0;32m-> 2228\u001b[0;31m                 \u001b[0mresult\u001b[0m \u001b[0;34m=\u001b[0m \u001b[0mfn\u001b[0m\u001b[0;34m(\u001b[0m\u001b[0;34m*\u001b[0m\u001b[0margs\u001b[0m\u001b[0;34m,\u001b[0m\u001b[0;34m**\u001b[0m\u001b[0mkwargs\u001b[0m\u001b[0;34m)\u001b[0m\u001b[0;34m\u001b[0m\u001b[0m\n\u001b[0m\u001b[1;32m   2229\u001b[0m             \u001b[0;32mreturn\u001b[0m \u001b[0mresult\u001b[0m\u001b[0;34m\u001b[0m\u001b[0m\n\u001b[1;32m   2230\u001b[0m \u001b[0;34m\u001b[0m\u001b[0m\n",
      "\u001b[0;32m/Users/msegala/anaconda/lib/python2.7/site-packages/IPython/core/magics/execution.pyc\u001b[0m in \u001b[0;36mtimeit\u001b[0;34m(self, line, cell)\u001b[0m\n",
      "\u001b[0;32m/Users/msegala/anaconda/lib/python2.7/site-packages/IPython/core/magic.pyc\u001b[0m in \u001b[0;36m<lambda>\u001b[0;34m(f, *a, **k)\u001b[0m\n\u001b[1;32m    191\u001b[0m     \u001b[0;31m# but it's overkill for just that one bit of state.\u001b[0m\u001b[0;34m\u001b[0m\u001b[0;34m\u001b[0m\u001b[0m\n\u001b[1;32m    192\u001b[0m     \u001b[0;32mdef\u001b[0m \u001b[0mmagic_deco\u001b[0m\u001b[0;34m(\u001b[0m\u001b[0marg\u001b[0m\u001b[0;34m)\u001b[0m\u001b[0;34m:\u001b[0m\u001b[0;34m\u001b[0m\u001b[0m\n\u001b[0;32m--> 193\u001b[0;31m         \u001b[0mcall\u001b[0m \u001b[0;34m=\u001b[0m \u001b[0;32mlambda\u001b[0m \u001b[0mf\u001b[0m\u001b[0;34m,\u001b[0m \u001b[0;34m*\u001b[0m\u001b[0ma\u001b[0m\u001b[0;34m,\u001b[0m \u001b[0;34m**\u001b[0m\u001b[0mk\u001b[0m\u001b[0;34m:\u001b[0m \u001b[0mf\u001b[0m\u001b[0;34m(\u001b[0m\u001b[0;34m*\u001b[0m\u001b[0ma\u001b[0m\u001b[0;34m,\u001b[0m \u001b[0;34m**\u001b[0m\u001b[0mk\u001b[0m\u001b[0;34m)\u001b[0m\u001b[0;34m\u001b[0m\u001b[0m\n\u001b[0m\u001b[1;32m    194\u001b[0m \u001b[0;34m\u001b[0m\u001b[0m\n\u001b[1;32m    195\u001b[0m         \u001b[0;32mif\u001b[0m \u001b[0mcallable\u001b[0m\u001b[0;34m(\u001b[0m\u001b[0marg\u001b[0m\u001b[0;34m)\u001b[0m\u001b[0;34m:\u001b[0m\u001b[0;34m\u001b[0m\u001b[0m\n",
      "\u001b[0;32m/Users/msegala/anaconda/lib/python2.7/site-packages/IPython/core/magics/execution.pyc\u001b[0m in \u001b[0;36mtimeit\u001b[0;34m(self, line, cell)\u001b[0m\n\u001b[1;32m   1039\u001b[0m                     \u001b[0;32mbreak\u001b[0m\u001b[0;34m\u001b[0m\u001b[0m\n\u001b[1;32m   1040\u001b[0m                 \u001b[0mnumber\u001b[0m \u001b[0;34m*=\u001b[0m \u001b[0;36m10\u001b[0m\u001b[0;34m\u001b[0m\u001b[0m\n\u001b[0;32m-> 1041\u001b[0;31m         \u001b[0mall_runs\u001b[0m \u001b[0;34m=\u001b[0m \u001b[0mtimer\u001b[0m\u001b[0;34m.\u001b[0m\u001b[0mrepeat\u001b[0m\u001b[0;34m(\u001b[0m\u001b[0mrepeat\u001b[0m\u001b[0;34m,\u001b[0m \u001b[0mnumber\u001b[0m\u001b[0;34m)\u001b[0m\u001b[0;34m\u001b[0m\u001b[0m\n\u001b[0m\u001b[1;32m   1042\u001b[0m         \u001b[0mbest\u001b[0m \u001b[0;34m=\u001b[0m \u001b[0mmin\u001b[0m\u001b[0;34m(\u001b[0m\u001b[0mall_runs\u001b[0m\u001b[0;34m)\u001b[0m \u001b[0;34m/\u001b[0m \u001b[0mnumber\u001b[0m\u001b[0;34m\u001b[0m\u001b[0m\n\u001b[1;32m   1043\u001b[0m         \u001b[0;32mif\u001b[0m \u001b[0;32mnot\u001b[0m \u001b[0mquiet\u001b[0m \u001b[0;34m:\u001b[0m\u001b[0;34m\u001b[0m\u001b[0m\n",
      "\u001b[0;32m/Users/msegala/anaconda/lib/python2.7/timeit.pyc\u001b[0m in \u001b[0;36mrepeat\u001b[0;34m(self, repeat, number)\u001b[0m\n\u001b[1;32m    227\u001b[0m         \u001b[0mr\u001b[0m \u001b[0;34m=\u001b[0m \u001b[0;34m[\u001b[0m\u001b[0;34m]\u001b[0m\u001b[0;34m\u001b[0m\u001b[0m\n\u001b[1;32m    228\u001b[0m         \u001b[0;32mfor\u001b[0m \u001b[0mi\u001b[0m \u001b[0;32min\u001b[0m \u001b[0mrange\u001b[0m\u001b[0;34m(\u001b[0m\u001b[0mrepeat\u001b[0m\u001b[0;34m)\u001b[0m\u001b[0;34m:\u001b[0m\u001b[0;34m\u001b[0m\u001b[0m\n\u001b[0;32m--> 229\u001b[0;31m             \u001b[0mt\u001b[0m \u001b[0;34m=\u001b[0m \u001b[0mself\u001b[0m\u001b[0;34m.\u001b[0m\u001b[0mtimeit\u001b[0m\u001b[0;34m(\u001b[0m\u001b[0mnumber\u001b[0m\u001b[0;34m)\u001b[0m\u001b[0;34m\u001b[0m\u001b[0m\n\u001b[0m\u001b[1;32m    230\u001b[0m             \u001b[0mr\u001b[0m\u001b[0;34m.\u001b[0m\u001b[0mappend\u001b[0m\u001b[0;34m(\u001b[0m\u001b[0mt\u001b[0m\u001b[0;34m)\u001b[0m\u001b[0;34m\u001b[0m\u001b[0m\n\u001b[1;32m    231\u001b[0m         \u001b[0;32mreturn\u001b[0m \u001b[0mr\u001b[0m\u001b[0;34m\u001b[0m\u001b[0m\n",
      "\u001b[0;32m/Users/msegala/anaconda/lib/python2.7/site-packages/IPython/core/magics/execution.pyc\u001b[0m in \u001b[0;36mtimeit\u001b[0;34m(self, number)\u001b[0m\n\u001b[1;32m    130\u001b[0m         \u001b[0mgc\u001b[0m\u001b[0;34m.\u001b[0m\u001b[0mdisable\u001b[0m\u001b[0;34m(\u001b[0m\u001b[0;34m)\u001b[0m\u001b[0;34m\u001b[0m\u001b[0m\n\u001b[1;32m    131\u001b[0m         \u001b[0;32mtry\u001b[0m\u001b[0;34m:\u001b[0m\u001b[0;34m\u001b[0m\u001b[0m\n\u001b[0;32m--> 132\u001b[0;31m             \u001b[0mtiming\u001b[0m \u001b[0;34m=\u001b[0m \u001b[0mself\u001b[0m\u001b[0;34m.\u001b[0m\u001b[0minner\u001b[0m\u001b[0;34m(\u001b[0m\u001b[0mit\u001b[0m\u001b[0;34m,\u001b[0m \u001b[0mself\u001b[0m\u001b[0;34m.\u001b[0m\u001b[0mtimer\u001b[0m\u001b[0;34m)\u001b[0m\u001b[0;34m\u001b[0m\u001b[0m\n\u001b[0m\u001b[1;32m    133\u001b[0m         \u001b[0;32mfinally\u001b[0m\u001b[0;34m:\u001b[0m\u001b[0;34m\u001b[0m\u001b[0m\n\u001b[1;32m    134\u001b[0m             \u001b[0;32mif\u001b[0m \u001b[0mgcold\u001b[0m\u001b[0;34m:\u001b[0m\u001b[0;34m\u001b[0m\u001b[0m\n",
      "\u001b[0;32m<magic-timeit>\u001b[0m in \u001b[0;36minner\u001b[0;34m(_it, _timer)\u001b[0m\n",
      "\u001b[0;31mNameError\u001b[0m: global name 'aa' is not defined"
     ]
    }
   ],
   "source": [
    "\n",
    "\n",
    "def a():\n",
    "    \n",
    "    print \"FIrst function: \",\n",
    "    %timeit -n 1 aa = 1+1\n",
    "    \n",
    "    aa = 2\n",
    "    print aa\n",
    "    \n",
    "    print \"asd 11111\"\n",
    "    %timeit -n 1 aa+2\n",
    "    \n",
    "    print \"asd 2222222\"\n",
    "    %timeit -n 1 1+1\n",
    "    \n",
    "a()"
   ]
  },
  {
   "cell_type": "code",
   "execution_count": null,
   "metadata": {
    "collapsed": true
   },
   "outputs": [],
   "source": []
  }
 ],
 "metadata": {
  "kernelspec": {
   "display_name": "Python 2",
   "language": "python",
   "name": "python2"
  },
  "language_info": {
   "codemirror_mode": {
    "name": "ipython",
    "version": 2
   },
   "file_extension": ".py",
   "mimetype": "text/x-python",
   "name": "python",
   "nbconvert_exporter": "python",
   "pygments_lexer": "ipython2",
   "version": "2.7.10"
  }
 },
 "nbformat": 4,
 "nbformat_minor": 0
}
