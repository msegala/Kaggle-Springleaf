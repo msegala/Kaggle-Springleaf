{
 "cells": [
  {
   "cell_type": "code",
   "execution_count": 37,
   "metadata": {
    "collapsed": true
   },
   "outputs": [],
   "source": [
    "import pandas as pd\n",
    "import numpy as np\n",
    "from scipy.optimize import minimize\n",
    "from sklearn.cross_validation import StratifiedShuffleSplit\n",
    "from sklearn.ensemble import RandomForestClassifier\n",
    "from sklearn.linear_model import LogisticRegression\n",
    "from sklearn.metrics import log_loss\n",
    "from sklearn.svm import SVC\n",
    "import os\n",
    "from sklearn.datasets import make_moons, make_circles, make_classification"
   ]
  },
  {
   "cell_type": "code",
   "execution_count": 38,
   "metadata": {
    "collapsed": false
   },
   "outputs": [],
   "source": [
    "### Load some data\n",
    "X, y = make_classification(n_samples=1000, n_features=20, n_informative=12, \n",
    "                           n_redundant=2, n_repeated=0, n_classes=2)"
   ]
  },
  {
   "cell_type": "code",
   "execution_count": 39,
   "metadata": {
    "collapsed": true
   },
   "outputs": [],
   "source": [
    "labels = y"
   ]
  },
  {
   "cell_type": "code",
   "execution_count": 40,
   "metadata": {
    "collapsed": true
   },
   "outputs": [],
   "source": [
    "### we need a test set that we didn't train on to find the best weights for combining the classifiers\n",
    "sss = StratifiedShuffleSplit(labels, test_size=0.05, random_state=1234)\n",
    "for train_index, test_index in sss:\n",
    "    break"
   ]
  },
  {
   "cell_type": "code",
   "execution_count": 41,
   "metadata": {
    "collapsed": false
   },
   "outputs": [],
   "source": [
    "train_x, train_y = X[train_index], labels[train_index]\n",
    "test_x, test_y = X[test_index], labels[test_index]"
   ]
  },
  {
   "cell_type": "code",
   "execution_count": 42,
   "metadata": {
    "collapsed": false
   },
   "outputs": [
    {
     "name": "stdout",
     "output_type": "stream",
     "text": [
      "RFC LogLoss 0.296359097585\n",
      "LogisticRegression LogLoss 0.41308029188\n",
      "RFC2 LogLoss 0.285335822671\n"
     ]
    }
   ],
   "source": [
    "### building the classifiers\n",
    "### usually you'd use xgboost and neural nets here\n",
    "clfs = []\n",
    "\n",
    "rfc = SVC(probability=True)\n",
    "rfc.fit(train_x, train_y)\n",
    "print('RFC LogLoss {score}'.format(score=log_loss(test_y, rfc.predict_proba(test_x))))\n",
    "clfs.append(rfc)\n",
    "\n",
    "logreg = LogisticRegression()\n",
    "logreg.fit(train_x, train_y)\n",
    "print('LogisticRegression LogLoss {score}'.format(score=log_loss(test_y, logreg.predict_proba(test_x))))\n",
    "clfs.append(logreg)\n",
    "\n",
    "rfc2 = RandomForestClassifier(n_estimators=50, random_state=1337, n_jobs=-1)\n",
    "rfc2.fit(train_x, train_y)\n",
    "print('RFC2 LogLoss {score}'.format(score=log_loss(test_y, rfc2.predict_proba(test_x))))\n",
    "clfs.append(rfc2)"
   ]
  },
  {
   "cell_type": "code",
   "execution_count": 43,
   "metadata": {
    "collapsed": false
   },
   "outputs": [],
   "source": [
    "### finding the optimum weights\n",
    "predictions = []\n",
    "for clf in clfs:\n",
    "    predictions.append(clf.predict_proba(test_x))"
   ]
  },
  {
   "cell_type": "code",
   "execution_count": 44,
   "metadata": {
    "collapsed": false
   },
   "outputs": [
    {
     "data": {
      "text/plain": [
       "(3, 50, 2)"
      ]
     },
     "execution_count": 44,
     "metadata": {},
     "output_type": "execute_result"
    }
   ],
   "source": [
    "np.shape(predictions)"
   ]
  },
  {
   "cell_type": "code",
   "execution_count": 45,
   "metadata": {
    "collapsed": true
   },
   "outputs": [],
   "source": [
    "def log_loss_func(weights):\n",
    "    ''' scipy minimize will pass the weights as a numpy array '''\n",
    "    final_prediction = 0\n",
    "    for weight, prediction in zip(weights, predictions):\n",
    "            final_prediction += weight*prediction\n",
    "\n",
    "    return log_loss(test_y, final_prediction)"
   ]
  },
  {
   "cell_type": "code",
   "execution_count": 72,
   "metadata": {
    "collapsed": true
   },
   "outputs": [],
   "source": [
    "#the algorithms need a starting value, right not we chose 0.5 for all weights\n",
    "#its better to choose many random starting points and run minimize a few times\n",
    "starting_values = np.ones(len(predictions))/(len(predictions))"
   ]
  },
  {
   "cell_type": "code",
   "execution_count": 73,
   "metadata": {
    "collapsed": false
   },
   "outputs": [],
   "source": [
    "#adding constraints  and a different solver \n",
    "cons = ({'type':'eq','fun':lambda w: 1-sum(w)})\n",
    "\n",
    "#our weights are bound between 0 and 1\n",
    "bounds = [(0,1)]*len(predictions)\n",
    "\n",
    "res = minimize(log_loss_func, starting_values, method='SLSQP', bounds=bounds, constraints=cons)\n",
    "#res = minimize(log_loss_func, starting_values, method='SLSQP')"
   ]
  },
  {
   "cell_type": "code",
   "execution_count": 74,
   "metadata": {
    "collapsed": false
   },
   "outputs": [
    {
     "name": "stdout",
     "output_type": "stream",
     "text": [
      "Ensamble Score: 0.151442691802\n",
      "Best Weights: [  8.82275657e-01   1.44361519e-16   1.17724343e-01]\n"
     ]
    }
   ],
   "source": [
    "print('Ensamble Score: {best_score}'.format(best_score=res['fun']))\n",
    "print('Best Weights: {weights}'.format(weights=res['x']))"
   ]
  },
  {
   "cell_type": "code",
   "execution_count": 70,
   "metadata": {
    "collapsed": true
   },
   "outputs": [],
   "source": [
    "## This will combine the model probabilities using the optimized weights\n",
    "y_prob = 0\n",
    "for i in range(len(predictions)):\n",
    "    y_prob += predictions[i]*weights[i]"
   ]
  },
  {
   "cell_type": "code",
   "execution_count": 71,
   "metadata": {
    "collapsed": false,
    "scrolled": true
   },
   "outputs": [
    {
     "data": {
      "text/plain": [
       "array([[ 0.00941795,  0.99058205],\n",
       "       [ 0.97138036,  0.02861964],\n",
       "       [ 0.9734544 ,  0.0265456 ],\n",
       "       [ 0.95119985,  0.04880015],\n",
       "       [ 0.61103592,  0.38896408],\n",
       "       [ 0.95900268,  0.04099732],\n",
       "       [ 0.25670592,  0.74329408],\n",
       "       [ 0.01177273,  0.98822727],\n",
       "       [ 0.98242386,  0.01757614],\n",
       "       [ 0.94457383,  0.05542617],\n",
       "       [ 0.10904413,  0.89095587],\n",
       "       [ 0.93310384,  0.06689616],\n",
       "       [ 0.98074935,  0.01925065],\n",
       "       [ 0.02354563,  0.97645437],\n",
       "       [ 0.97545943,  0.02454057],\n",
       "       [ 0.978021  ,  0.021979  ],\n",
       "       [ 0.80774007,  0.19225993],\n",
       "       [ 0.00235449,  0.99764551],\n",
       "       [ 0.00707635,  0.99292365],\n",
       "       [ 0.01412693,  0.98587307],\n",
       "       [ 0.00596532,  0.99403468],\n",
       "       [ 0.94926899,  0.05073101],\n",
       "       [ 0.01412694,  0.98587306],\n",
       "       [ 0.03768656,  0.96231344],\n",
       "       [ 0.92341051,  0.07658949],\n",
       "       [ 0.04238078,  0.95761922],\n",
       "       [ 0.93754411,  0.06245589],\n",
       "       [ 0.01648142,  0.98351858],\n",
       "       [ 0.97990512,  0.02009488],\n",
       "       [ 0.02590545,  0.97409455],\n",
       "       [ 0.04367663,  0.95632337],\n",
       "       [ 0.99293547,  0.00706453],\n",
       "       [ 0.73847335,  0.26152665],\n",
       "       [ 0.02589937,  0.97410063],\n",
       "       [ 0.93912018,  0.06087982],\n",
       "       [ 0.06656597,  0.93343403],\n",
       "       [ 0.93649721,  0.06350279],\n",
       "       [ 0.0023545 ,  0.9976455 ],\n",
       "       [ 0.00707858,  0.99292142],\n",
       "       [ 0.98186126,  0.01813874],\n",
       "       [ 0.27230062,  0.72769938],\n",
       "       [ 0.06570698,  0.93429302],\n",
       "       [ 0.01629679,  0.98370321],\n",
       "       [ 0.00941952,  0.99058048],\n",
       "       [ 0.91047076,  0.08952924],\n",
       "       [ 0.78985021,  0.21014979],\n",
       "       [ 0.06365863,  0.93634137],\n",
       "       [ 0.87371059,  0.12628941],\n",
       "       [ 0.98961765,  0.01038235],\n",
       "       [ 0.02742042,  0.97257958]])"
      ]
     },
     "execution_count": 71,
     "metadata": {},
     "output_type": "execute_result"
    }
   ],
   "source": [
    "y_prob"
   ]
  },
  {
   "cell_type": "code",
   "execution_count": null,
   "metadata": {
    "collapsed": true
   },
   "outputs": [],
   "source": []
  }
 ],
 "metadata": {
  "kernelspec": {
   "display_name": "Python 2",
   "language": "python",
   "name": "python2"
  },
  "language_info": {
   "codemirror_mode": {
    "name": "ipython",
    "version": 2
   },
   "file_extension": ".py",
   "mimetype": "text/x-python",
   "name": "python",
   "nbconvert_exporter": "python",
   "pygments_lexer": "ipython2",
   "version": "2.7.10"
  }
 },
 "nbformat": 4,
 "nbformat_minor": 0
}
